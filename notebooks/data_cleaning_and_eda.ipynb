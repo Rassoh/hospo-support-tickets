{
 "cells": [
  {
   "cell_type": "code",
   "execution_count": null,
   "metadata": {},
   "outputs": [
    {
     "name": "stdout",
     "output_type": "stream",
     "text": [
      "<class 'pandas.core.frame.DataFrame'>\n",
      "RangeIndex: 1050 entries, 0 to 1049\n",
      "Data columns (total 12 columns):\n",
      " #   Column               Non-Null Count  Dtype  \n",
      "---  ------               --------------  -----  \n",
      " 0   ticket_id            1050 non-null   object \n",
      " 1   venue_name           1050 non-null   object \n",
      " 2   venue_type           1050 non-null   object \n",
      " 3   state                1050 non-null   object \n",
      " 4   issue_category       1050 non-null   object \n",
      " 5   priority             1030 non-null   object \n",
      " 6   created_date         1050 non-null   object \n",
      " 7   resolved_date        1050 non-null   object \n",
      " 8   response_time_hrs    1050 non-null   float64\n",
      " 9   resolution_time_hrs  1050 non-null   float64\n",
      " 10  csat_score           868 non-null    float64\n",
      " 11  assigned_agent       1050 non-null   object \n",
      "dtypes: float64(3), object(9)\n",
      "memory usage: 98.6+ KB\n",
      "None\n",
      "  ticket_id                     venue_name  venue_type state   issue_category  \\\n",
      "0  TICK1000  Jackson, Miller and Gutierrez        Cafe   ACT         Payments   \n",
      "1  TICK1001      Watkins, Spence and Ramos  Restaurant   ACT      Menu Upload   \n",
      "2  TICK1002                     Campos LLC         Bar   QLD         Payments   \n",
      "3  TICK1003                   Holmes-Young  Restaurant    WA     Integrations   \n",
      "4  TICK1004                    Wilson-Ward         Bar   VIC         Payments   \n",
      "5  TICK1005    Day, Stevens and Hutchinson         Pub   TAS  Technical Issue   \n",
      "6  TICK1006     Esparza, Keller and Parker  Restaurant    NT  Technical Issue   \n",
      "7  TICK1007                   Harper-Lewis  Restaurant    NT         Payments   \n",
      "8  TICK1008    Sanchez, Castillo and Cross  Restaurant   QLD  Technical Issue   \n",
      "9  TICK1009   Davidson, Rodriguez and Cole        Cafe    NT  Technical Issue   \n",
      "\n",
      "  priority created_date resolved_date  response_time_hrs  resolution_time_hrs  \\\n",
      "0     High   2024-12-15    2024-12-18                8.1                 38.6   \n",
      "1   Medium   2024-11-21    2024-11-26                4.8                 40.6   \n",
      "2   Medium   2024-11-09    2024-11-15                3.1                 39.4   \n",
      "3     High   2025-01-16    2025-01-18                6.4                 53.7   \n",
      "4      Low   2024-06-06    2024-06-09                1.9                 64.2   \n",
      "5      Low   2025-03-02    2025-03-06                5.4                 31.2   \n",
      "6     High   2024-07-06    2024-07-11                3.7                 19.5   \n",
      "7   Medium   2024-11-20    2024-11-23                2.6                 35.7   \n",
      "8     High   2024-06-27    2024-07-04                6.1                 27.2   \n",
      "9     High   2024-05-02    2024-05-09               11.9                 41.1   \n",
      "\n",
      "   csat_score assigned_agent  \n",
      "0         NaN        Emily.T  \n",
      "1         1.0          Tom.R  \n",
      "2         2.0        Emily.T  \n",
      "3         2.0         John.S  \n",
      "4         4.0         Mike.D  \n",
      "5         NaN          Tom.R  \n",
      "6         5.0        Sarah.L  \n",
      "7         1.0          Tom.R  \n",
      "8         4.0        Sarah.L  \n",
      "9         4.0        Emily.T  \n",
      "     ticket_id                    venue_name  venue_type state  \\\n",
      "1040  TICK1328       Bell, Murray and Hunter         Pub    NT   \n",
      "1041  TICK1096  Phillips, Frazier and Jensen  Restaurant   TAS   \n",
      "1042  TICK1312       Nguyen, Smith and Kelly         Pub   NSW   \n",
      "1043  TICK1974      Klein, Carlson and Smith         Bar   VIC   \n",
      "1044  TICK1299    Baker, Graham and Mitchell         Pub   TAS   \n",
      "1045  TICK1277                  Chavez-Kelly        Cafe   VIC   \n",
      "1046  TICK1924                Washington Inc        Cafe   VIC   \n",
      "1047  TICK1601                 Obrien-Keller        Cafe   VIC   \n",
      "1048  TICK1439                    Nash Group  Restaurant   NSW   \n",
      "1049  TICK1837  Frederick, King and Bailey           Pub   ACT   \n",
      "\n",
      "       issue_category priority created_date resolved_date  response_time_hrs  \\\n",
      "1040         Payments   Medium   2024-06-27    2024-07-03                7.8   \n",
      "1041     Integrations      Low   2024-09-14    2024-09-20                1.3   \n",
      "1042   POS Connection   Medium   2024-08-25    2024-08-27                5.3   \n",
      "1043  Technical Issue   Medium   2024-07-15    2024-07-18                4.4   \n",
      "1044  Technical Issue   Medium   2025-01-29    2025-02-03                3.9   \n",
      "1045      Menu Upload   Medium   2024-06-23    2024-06-29                1.6   \n",
      "1046  Technical Issue   Medium   2024-06-24    2024-06-27                6.5   \n",
      "1047         Payments     High   2024-08-02    2024-08-07                5.3   \n",
      "1048   POS Connection   Medium   2024-05-31    2024-06-05                9.6   \n",
      "1049      Menu Upload      Low   2024-09-04    2024-09-07               10.1   \n",
      "\n",
      "      resolution_time_hrs  csat_score assigned_agent  \n",
      "1040                 20.8         3.0         John.S  \n",
      "1041                 40.6         2.0         John.S  \n",
      "1042                 36.0         4.0        Sarah.L  \n",
      "1043                 37.0         4.0        Emily.T  \n",
      "1044                 23.0         2.0         Mike.D  \n",
      "1045                 13.8         NaN        Sarah.L  \n",
      "1046                 44.7         3.0         Mike.D  \n",
      "1047                 53.3         NaN        Emily.T  \n",
      "1048                 51.4         1.0         John.S  \n",
      "1049                 63.2         5.0         John.S  \n",
      "  ticket_id                     venue_name  venue_type state issue_category  \\\n",
      "0  TICK1000  Jackson, Miller and Gutierrez        Cafe   ACT       Payments   \n",
      "1  TICK1001      Watkins, Spence and Ramos  Restaurant   ACT    Menu Upload   \n",
      "2  TICK1002                     Campos LLC         Bar   QLD       Payments   \n",
      "3  TICK1003                   Holmes-Young  Restaurant    WA   Integrations   \n",
      "4  TICK1004                    Wilson-Ward         Bar   VIC       Payments   \n",
      "\n",
      "  priority created_date resolved_date  response_time_hrs  resolution_time_hrs  \\\n",
      "0     High   2024-12-15    2024-12-18                8.1                 38.6   \n",
      "1   Medium   2024-11-21    2024-11-26                4.8                 40.6   \n",
      "2   Medium   2024-11-09    2024-11-15                3.1                 39.4   \n",
      "3     High   2025-01-16    2025-01-18                6.4                 53.7   \n",
      "4      Low   2024-06-06    2024-06-09                1.9                 64.2   \n",
      "\n",
      "   csat_score assigned_agent  \n",
      "0         NaN        Emily.T  \n",
      "1         1.0          Tom.R  \n",
      "2         2.0        Emily.T  \n",
      "3         2.0         John.S  \n",
      "4         4.0         Mike.D  \n",
      "ticket_id                      object\n",
      "venue_name                     object\n",
      "venue_type                     object\n",
      "state                          object\n",
      "issue_category                 object\n",
      "priority                       object\n",
      "created_date           datetime64[ns]\n",
      "resolved_date          datetime64[ns]\n",
      "response_time_hrs             float64\n",
      "resolution_time_hrs           float64\n",
      "csat_score                    float64\n",
      "assigned_agent                 object\n",
      "dtype: object\n",
      "       ticket_id venue_name  venue_type state  issue_category priority  \\\n",
      "count       1050       1050        1050  1050            1050     1030   \n",
      "unique      1000        984           4     8               5        3   \n",
      "top     TICK1319  Smith PLC  Restaurant    NT  POS Connection   Medium   \n",
      "freq           2          4         275   148             221      509   \n",
      "mean         NaN        NaN         NaN   NaN             NaN      NaN   \n",
      "min          NaN        NaN         NaN   NaN             NaN      NaN   \n",
      "25%          NaN        NaN         NaN   NaN             NaN      NaN   \n",
      "50%          NaN        NaN         NaN   NaN             NaN      NaN   \n",
      "75%          NaN        NaN         NaN   NaN             NaN      NaN   \n",
      "max          NaN        NaN         NaN   NaN             NaN      NaN   \n",
      "std          NaN        NaN         NaN   NaN             NaN      NaN   \n",
      "\n",
      "                         created_date                  resolved_date  \\\n",
      "count                            1050                           1050   \n",
      "unique                            NaN                            NaN   \n",
      "top                               NaN                            NaN   \n",
      "freq                              NaN                            NaN   \n",
      "mean    2024-08-24 11:51:46.285714432  2024-08-28 14:13:01.714285824   \n",
      "min               2024-03-03 00:00:00            2024-03-05 00:00:00   \n",
      "25%               2024-05-30 06:00:00            2024-06-03 06:00:00   \n",
      "50%               2024-08-23 00:00:00            2024-08-27 00:00:00   \n",
      "75%               2024-11-20 18:00:00            2024-11-24 00:00:00   \n",
      "max               2025-03-02 00:00:00            2025-03-09 00:00:00   \n",
      "std                               NaN                            NaN   \n",
      "\n",
      "        response_time_hrs  resolution_time_hrs  csat_score assigned_agent  \n",
      "count          1050.00000          1050.000000  868.000000           1050  \n",
      "unique                NaN                  NaN         NaN              5  \n",
      "top                   NaN                  NaN         NaN         Mike.D  \n",
      "freq                  NaN                  NaN         NaN            221  \n",
      "mean              6.32200            40.413143    3.002304            NaN  \n",
      "min               1.00000            10.000000    1.000000            NaN  \n",
      "25%               3.70000            24.700000    2.000000            NaN  \n",
      "50%               6.30000            40.650000    3.000000            NaN  \n",
      "75%               9.10000            55.575000    4.000000            NaN  \n",
      "max              12.00000            71.900000    5.000000            NaN  \n",
      "std               3.17173            17.793542    1.406032            NaN  \n"
     ]
    }
   ],
   "source": [
    "import pandas as pd\n",
    "\n",
    "# Load the dataset\n",
    "df = pd.read_csv(\"../data/raw_tickets_data.csv\")  # Adjust path if needed\n",
    "#df = pd.read_csv(\"../data/hospo_support_tickets_messy.csv\")\n",
    "# Display basic structure\n",
    "print(df.info())  # Column types & missing values\n",
    "print(df.head(10))  # First 10 rows\n",
    "print(df.tail(10))  # Last 10 rows\n",
    "\n",
    "\n",
    "# Summary statistics\n",
    "print(df.describe(include='all'))  # Summary for numerical & categorical data\n",
    "\n"
   ]
  },
  {
   "cell_type": "code",
   "execution_count": 22,
   "metadata": {},
   "outputs": [
    {
     "name": "stdout",
     "output_type": "stream",
     "text": [
      "ticket_id                      object\n",
      "venue_name                     object\n",
      "venue_type                     object\n",
      "state                          object\n",
      "issue_category                 object\n",
      "priority                       object\n",
      "created_date           datetime64[ns]\n",
      "resolved_date          datetime64[ns]\n",
      "response_time_hrs             float64\n",
      "resolution_time_hrs           float64\n",
      "csat_score                    float64\n",
      "assigned_agent                 object\n",
      "dtype: object\n"
     ]
    }
   ],
   "source": [
    "\n",
    "\n",
    "\n",
    "df['created_date'] = pd.to_datetime(df['created_date'], errors='coerce')\n",
    "df['resolved_date'] = pd.to_datetime(df['resolved_date'], errors='coerce')\n",
    "print(df.dtypes)"
   ]
  },
  {
   "cell_type": "code",
   "execution_count": 20,
   "metadata": {},
   "outputs": [
    {
     "name": "stdout",
     "output_type": "stream",
     "text": [
      "Remaining Rows After Deduplication: 1000\n"
     ]
    }
   ],
   "source": [
    "df = df.drop_duplicates()\n",
    "print(f\"Remaining Rows After Deduplication: {len(df)}\")"
   ]
  },
  {
   "cell_type": "code",
   "execution_count": 23,
   "metadata": {},
   "outputs": [
    {
     "name": "stderr",
     "output_type": "stream",
     "text": [
      "C:\\Users\\andre\\AppData\\Local\\Temp\\ipykernel_24592\\3691611514.py:2: FutureWarning: DataFrame.applymap has been deprecated. Use DataFrame.map instead.\n",
      "  df = df.applymap(lambda x: x.strip() if isinstance(x, str) else x)\n"
     ]
    }
   ],
   "source": [
    "# Trim whitespace from all text columns\n",
    "df = df.applymap(lambda x: x.strip() if isinstance(x, str) else x)\n",
    "\n",
    "# Standardize column names (lowercase, replace spaces with underscores)\n",
    "df.columns = df.columns.str.lower().str.replace(' ', '_')"
   ]
  },
  {
   "cell_type": "code",
   "execution_count": 24,
   "metadata": {},
   "outputs": [
    {
     "name": "stdout",
     "output_type": "stream",
     "text": [
      "ticket_id              0\n",
      "venue_name             0\n",
      "venue_type             0\n",
      "state                  0\n",
      "issue_category         0\n",
      "priority               0\n",
      "created_date           0\n",
      "resolved_date          0\n",
      "response_time_hrs      0\n",
      "resolution_time_hrs    0\n",
      "csat_score             0\n",
      "assigned_agent         0\n",
      "dtype: int64\n"
     ]
    },
    {
     "name": "stderr",
     "output_type": "stream",
     "text": [
      "C:\\Users\\andre\\AppData\\Local\\Temp\\ipykernel_24592\\1645150120.py:2: FutureWarning: A value is trying to be set on a copy of a DataFrame or Series through chained assignment using an inplace method.\n",
      "The behavior will change in pandas 3.0. This inplace method will never work because the intermediate object on which we are setting values always behaves as a copy.\n",
      "\n",
      "For example, when doing 'df[col].method(value, inplace=True)', try using 'df.method({col: value}, inplace=True)' or df[col] = df[col].method(value) instead, to perform the operation inplace on the original object.\n",
      "\n",
      "\n",
      "  df['csat_score'].fillna(df['csat_score'].median(), inplace=True)\n",
      "C:\\Users\\andre\\AppData\\Local\\Temp\\ipykernel_24592\\1645150120.py:5: FutureWarning: A value is trying to be set on a copy of a DataFrame or Series through chained assignment using an inplace method.\n",
      "The behavior will change in pandas 3.0. This inplace method will never work because the intermediate object on which we are setting values always behaves as a copy.\n",
      "\n",
      "For example, when doing 'df[col].method(value, inplace=True)', try using 'df.method({col: value}, inplace=True)' or df[col] = df[col].method(value) instead, to perform the operation inplace on the original object.\n",
      "\n",
      "\n",
      "  df['priority'].fillna('Medium', inplace=True)\n"
     ]
    }
   ],
   "source": [
    "# Fill missing CSAT scores with median\n",
    "df['csat_score'].fillna(df['csat_score'].median(), inplace=True)\n",
    "\n",
    "# Fill missing priority values with 'Medium' (assumption)\n",
    "df['priority'].fillna('Medium', inplace=True)\n",
    "\n",
    "print(df.isnull().sum())  # Check remaining missing values\n"
   ]
  },
  {
   "cell_type": "code",
   "execution_count": 29,
   "metadata": {},
   "outputs": [
    {
     "data": {
      "image/png": "[encoded data removed]",
      "text/plain": [
       "<Figure size 800x500 with 1 Axes>"
      ]
     },
     "metadata": {},
     "output_type": "display_data"
    }
   ],
   "source": [
    "import matplotlib.pyplot as plt\n",
    "import seaborn as sns\n",
    "\n",
    "plt.figure(figsize=(8,5))\n",
    "sns.countplot(y=df['issue_category'], order=df['issue_category'].value_counts().index)\n",
    "plt.title(\"Ticket Volume by Category\")\n",
    "plt.show()\n",
    "\n"
   ]
  }
 ],
 "metadata": {
  "kernelspec": {
   "display_name": "Python 3",
   "language": "python",
   "name": "python3"
  },
  "language_info": {
   "codemirror_mode": {
    "name": "ipython",
    "version": 3
   },
   "file_extension": ".py",
   "mimetype": "text/x-python",
   "name": "python",
   "nbconvert_exporter": "python",
   "pygments_lexer": "ipython3",
   "version": "3.10.11"
  },
  "orig_nbformat": 4
 },
 "nbformat": 4,
 "nbformat_minor": 2
}
