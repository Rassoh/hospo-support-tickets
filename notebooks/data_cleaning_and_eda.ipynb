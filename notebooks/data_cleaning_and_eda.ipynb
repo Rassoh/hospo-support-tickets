{
 "cells": [
  {
   "cell_type": "code",
   "execution_count": null,
   "metadata": {},
   "outputs": [],
   "source": [
    "import pandas as pd\n",
    "\n",
    "# Load CSV\n",
    "df = pd.read_csv(\"../data/raw_tickets_data.csv\")  # Adjust path as needed\n",
    "\n",
    "# Basic Info\n",
    "print(df.info())  # Column types, non-null counts\n",
    "print(df.head(10))  # First 10 rows\n",
    "print(df.tail(10))  # Last 10 rows\n",
    "\n",
    "# Summary Stats\n",
    "print(df.describe(include='all'))  # Summary for numerical & categorical columns\n"
   ]
  }
 ],
 "metadata": {
  "language_info": {
   "name": "python"
  },
  "orig_nbformat": 4
 },
 "nbformat": 4,
 "nbformat_minor": 2
}
